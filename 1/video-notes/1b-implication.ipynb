{
 "cells": [
  {
   "cell_type": "markdown",
   "metadata": {},
   "source": [
    "# Implication\n",
    "\n",
    "In ordinaary language, if-then statements usually refer to *causal* relationships (3:20). Truth tables have a cloumn for each variable and then columns for the formulas you're interested in (7:15). \n",
    "\n",
    "|p|q|p -> q|\n",
    "|-|-|------|\n",
    "|T|T|T|\n",
    "|T|F|F|\n",
    "|F|T|T|\n",
    "|F|F|T|\n",
    "\n",
    "Next week we'll touch on *predicate logic* which can show the relationship between variables (15:30-16:15). "
   ]
  }
 ],
 "metadata": {
  "language_info": {
   "name": "python"
  }
 },
 "nbformat": 4,
 "nbformat_minor": 2
}
