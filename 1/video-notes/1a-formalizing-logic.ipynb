{
 "cells": [
  {
   "cell_type": "markdown",
   "metadata": {},
   "source": [
    "For an argument to be **invalid** means that the propositional variables may all be true but may still result in a false statement. An exampe would be \"either you failed the test or you cheated\" -> if you failed then you did not cheat which might not be true! A **disjunction** is another way of saying OR (v). "
   ]
  }
 ],
 "metadata": {
  "language_info": {
   "name": "python"
  }
 },
 "nbformat": 4,
 "nbformat_minor": 2
}
