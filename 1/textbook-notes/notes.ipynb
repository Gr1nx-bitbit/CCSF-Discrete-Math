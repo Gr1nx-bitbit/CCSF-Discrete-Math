{
 "cells": [
  {
   "cell_type": "markdown",
   "metadata": {},
   "source": [
    "# Reading 1.1: Formal Logic\n",
    "\n",
    "*Formalism* is basically a way of boiling down sentences into the important nuggets of information they hold and describing the relationship between them (19). You can take a lot of the thinking out of a problem by using formalism since you're manipulating symbols and relationships instead of sifitng through every little detail, however you will need to *interpret* your results. "
   ]
  },
  {
   "cell_type": "code",
   "execution_count": null,
   "metadata": {
    "vscode": {
     "languageId": "plaintext"
    }
   },
   "outputs": [],
   "source": [
    "Exercise: Inquiry Questions (20)\n",
    "\n",
    "1.1: Westley, standing with his hands behind his back, claims that he is holding a quarter in his left hand \n",
    "and a $20 bill in his right hand. You believe he is lying. What would you have to show to demonstrate that \n",
    "he is lying? Invent a diagram, chart, or symbols to illustrate all the possible scenarios.\n",
    "-->\n",
    "Trying to figure out if Westley is lying i.e. if the bill is actually in his left hand and the quarter in his right\n",
    "Need to represent those possiblities and consider them to either be true or false\n",
    "\n",
    "† = $20 in right hand\n",
    "¥ = Quarter in left hand\n",
    "\n",
    "There are two possibilites, either where the coin is in his left hand (¥) or right hand (¬¥)\n",
    "\n",
    "1.2: Buttercup knows whether or not Westley is lying. She promises that if Westley is lying, she will give you a cookie. \n",
    "Buttercup always keeps her promises. Suppose she does not give you a cookie; what can you conclude? Suppose she gives you \n",
    "a cookie; what can you conclude? Illustrate your thinking in some organized way.\n",
    "\n",
    "If Westley is lying i.e. (¬¥) then we'll get a cookie (ø): (¬¥) -> (ø)\n",
    "Otherwise, if Westley is not lying i.e. (¥) we don't get a cookie (¬ø): (¥) -> (¬ø)\n",
    "\n",
    "1.3: Camp Halcyon and Camp Placid are two summer camps with the following daily policies on pool use and cleanup duties.\n",
    "Camp Halcyon’s Policy: If you used the pool in the afternoon and you didn’t clean up after lunch, then you must clean up after dinner.\n",
    "Camp Placid’s Policy: You must do at least one of the following: (a) Stay out of the pool in the afternoon, (b) clean up after lunch, \n",
    "or (c) clean up after dinner.\n",
    "\n",
    "How do these policies differ? Explain your reasoning.\n",
    "\n",
    "Camp Halcyon has imperative policies i.e. if this then that whereas Camp Placid has either or policies i.e. this or that or that\n",
    "\n",
    "Camp Halcyon: (If pool (π) AND no clean up (¬ç) AND after noon (å)) -> (clean up (ç) AND dinner time (∂))\n",
    "Rewritten as: (π ^ (¬ç) ^ å) -> (ç ^ ∂)\n",
    "\n",
    "Camp Placid: Either [no pool (¬π) AND afternoon (å)] OR [clean up (ç) AND after lunch (å)] OR [clean up (ç) AND after dinner (∂)]\n",
    "Rewritten as: (¬π ^ å) v (ç ^ å) v (ç ^ ∂)"
   ]
  },
  {
   "cell_type": "markdown",
   "metadata": {},
   "source": [
    "To form a **statement** or **proposition** you need a sentence that is EITHER true or false but not both (21). Declaritive sentences (ones in which you declare a variable or proposition) can fail to be statements in two main ways:\n",
    "- Contain an unspecified term e.g. x is even\n",
    "    - x here is a free variable and the truth of the sentence depends on it\n",
    "- The sentence cannot be *self-referential* e.g. \"This sentence is false\"\n",
    "\n",
    "## Logical Connectives:\n",
    "|Connective|Symbol|\n",
    "|----------|------|\n",
    "|AND|^|\n",
    "|OR|v|\n",
    "|NOT|¬|\n",
    "|implies (if... then)|->|\n",
    "|if and only if|<->|\n",
    "\n",
    "## Truth Tables\n",
    "This is that model-checking thing from AI where you basically see all possibly values. These tables rely on the fact that your statements are either **true** OR **false**. \n",
    "\n",
    "### Not Truth Table\n",
    "|p|¬p|\n",
    "|-|-|\n",
    "|T|F|\n",
    "|F|T|\n",
    "\n",
    "### AND Truth Table\n",
    "|p|q|p^q|\n",
    "|-|-|---|\n",
    "|T|T|F|\n",
    "|F|T|F|\n",
    "|T|F|F|\n",
    "|F|F|F|\n",
    "\n",
    "### OR Truth Table\n",
    "|p|q|pvq|\n",
    "|-|-|---|\n",
    "|T|T|T|\n",
    "|F|T|T|\n",
    "|T|F|T|\n",
    "|F|F|F|\n",
    "\n",
    "### If and only If Truth Table\n",
    "|p|q|p<->q|\n",
    "|-|-|---|\n",
    "|T|T|T|\n",
    "|F|T|F|\n",
    "|T|F|F|\n",
    "|F|F|T|\n",
    "\n",
    "### Implies Truth Table\n",
    "|p|q|p->q|\n",
    "|-|-|---|\n",
    "|T|T|T|\n",
    "|F|T|T|\n",
    "|T|F|F|\n",
    "|F|F|T|\n",
    "\n",
    "## Logical Equivalences\n",
    "Two statements are said to be equivalent if they have the same truth tables [T/F values for all cases] (24). The *converse* of a statement happens when relationships are reversed e.g. p -> q goes to q -> p, and the *contrapositive* is what happens when the relationships AND statements are reversed e.g. p -> q goes to ¬q -> ¬p. Contrapositives are equivalent to the original statement while converses may not be (25)."
   ]
  },
  {
   "cell_type": "code",
   "execution_count": null,
   "metadata": {
    "vscode": {
     "languageId": "plaintext"
    }
   },
   "outputs": [],
   "source": [
    "Example 1.3: If Aaron is late, then Bill is late, and, if both Aaron and Bill are late, \n",
    "then class is boring. Suppose that class is not boring. What can you conclude about Aaron?\n",
    "\n",
    "The class is boring if Aaron is not there AND OR if Aaron AND Bill are not there. Basically,\n",
    "Aaron might be there and Bill is missing while the inverse is also true. Both those situations\n",
    "show that class would not be boring.\n",
    "\n",
    "Aaron is late = å\n",
    "Bill is late = †\n",
    "Class is boring = ç\n",
    "\n",
    "å -> †\n",
    "(å^†) -> ç\n",
    "\n",
    "\"\"\"\n",
    "    I didn't get the sentence fully but I got all the parts. The sentence S should equal:\n",
    "        S = (å -> †) ^ [(å^†) -> ç]\n",
    "    Then make your subsequent truth table. Since there are 3 variables, you need 2^3 or 8\n",
    "    cases in your truth table. \n",
    "\"\"\""
   ]
  }
 ],
 "metadata": {
  "language_info": {
   "name": "python"
  }
 },
 "nbformat": 4,
 "nbformat_minor": 2
}
